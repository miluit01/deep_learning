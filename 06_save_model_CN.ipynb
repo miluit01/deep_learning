{
 "metadata": {
  "language_info": {
   "codemirror_mode": {
    "name": "ipython",
    "version": 3
   },
   "file_extension": ".py",
   "mimetype": "text/x-python",
   "name": "python",
   "nbconvert_exporter": "python",
   "pygments_lexer": "ipython3",
   "version": 3
  },
  "orig_nbformat": 2
 },
 "nbformat": 4,
 "nbformat_minor": 2,
 "cells": [
  {
   "source": [
    "# 保存/读取 模型\n",
    "\n",
    "使用Model类或子类的下列函数来进行模型的保存和读取\n",
    "\n",
    "* 保存权重save_weights，读取权重load_weights\n",
    "* 保存整个模型文件save,读取模型文件load_model\n",
    "\n",
    "以上的方法时候开发环境的保存和读取。交付模型使用下列方法保存和读取\n",
    "\n",
    "* 保存 tensorflow.saved_model.save(model, 'path')\n",
    "* 加载 model = tensorflow.saved_model.load('path')"
   ],
   "cell_type": "markdown",
   "metadata": {}
  },
  {
   "cell_type": "code",
   "execution_count": null,
   "metadata": {},
   "outputs": [],
   "source": []
  }
 ]
}