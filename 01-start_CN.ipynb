{
 "metadata": {
  "language_info": {
   "codemirror_mode": {
    "name": "ipython",
    "version": 3
   },
   "file_extension": ".py",
   "mimetype": "text/x-python",
   "name": "python",
   "nbconvert_exporter": "python",
   "pygments_lexer": "ipython3",
   "version": "3.6.9-final"
  },
  "orig_nbformat": 2,
  "kernelspec": {
   "name": "python3",
   "display_name": "Python 3.6.9 64-bit",
   "metadata": {
    "interpreter": {
     "hash": "767d51c1340bd893661ea55ea3124f6de3c7a262a8b4abca0554b478b1e2ff90"
    }
   }
  }
 },
 "nbformat": 4,
 "nbformat_minor": 2,
 "cells": [
  {
   "source": [
    "# Step by Step \n",
    "\n",
    "Tesnorflow是一个基于numpy的科学计算库，是用来搭建Deep learning模型的工具。\n",
    "\n",
    "## 环境搭建\n",
    "\n",
    "在NGC nvidia gpu cloud平台下载tensorflow 2.3的docker image：tensorflow_20.10-tf2-py3.tar.gz\n",
    "\n",
    "下载完毕后在目录中使用:\n",
    "\n",
    "```console\n",
    "gunzip -c tensorflow_20.10-tf2-py3.tar.gz | docker load\n",
    "```\n",
    "\n",
    "在vscode中安装python, pylance, remote container插件，打开这个工程, 用ctrl+alt+p打开命令菜单输入container reopen。 这样工作环境搭建完毕。"
   ],
   "cell_type": "markdown",
   "metadata": {}
  },
  {
   "source": [
    "## 0. 导入tensorflow库"
   ],
   "cell_type": "markdown",
   "metadata": {}
  },
  {
   "cell_type": "code",
   "execution_count": 1,
   "metadata": {},
   "outputs": [],
   "source": [
    "import tensorflow as tf"
   ]
  },
  {
   "source": [
    "显示安装tensorflow版本"
   ],
   "cell_type": "markdown",
   "metadata": {}
  },
  {
   "cell_type": "code",
   "execution_count": null,
   "metadata": {},
   "outputs": [],
   "source": [
    "print(tf.__version__)"
   ]
  },
  {
   "source": [
    "## 1. 创建张量 Tensor"
   ],
   "cell_type": "markdown",
   "metadata": {}
  },
  {
   "source": [
    "### 一般张量"
   ],
   "cell_type": "markdown",
   "metadata": {}
  },
  {
   "cell_type": "code",
   "execution_count": 10,
   "metadata": {},
   "outputs": [
    {
     "output_type": "execute_result",
     "data": {
      "text/plain": [
       "<tf.Tensor: shape=(2, 3), dtype=int16, numpy=\n",
       "array([[1, 2, 3],\n",
       "       [3, 4, 5]], dtype=int16)>"
      ]
     },
     "metadata": {},
     "execution_count": 10
    }
   ],
   "source": [
    "\n",
    "tf.constant(value=[[1, 2, 3], [3, 4, 5]], dtype=tf.int16)"
   ]
  },
  {
   "source": [
    "### 全为 0"
   ],
   "cell_type": "markdown",
   "metadata": {}
  },
  {
   "cell_type": "code",
   "execution_count": null,
   "metadata": {},
   "outputs": [],
   "source": [
    "tf.zeros(shape=[38,38], dtype=tf.int32)"
   ]
  },
  {
   "source": [
    "### 全为 1"
   ],
   "cell_type": "markdown",
   "metadata": {}
  },
  {
   "cell_type": "code",
   "execution_count": null,
   "metadata": {},
   "outputs": [],
   "source": [
    "tf.ones(shape=[38,38], dtype=tf.int32) # tensor with 38x38 filled with 1"
   ]
  },
  {
   "source": [
    "## 随机初始化\n",
    "适用权重和偏差值的初始化\n"
   ],
   "cell_type": "markdown",
   "metadata": {}
  },
  {
   "source": [
    "### 正态分布 random.normal "
   ],
   "cell_type": "markdown",
   "metadata": {}
  },
  {
   "cell_type": "code",
   "execution_count": null,
   "metadata": {},
   "outputs": [],
   "source": [
    "tf.random.normal(shape=[38, 38], mean=0, stddev=1, dtype=tf.float32)"
   ]
  },
  {
   "source": [
    "### 正态分布(裁剪) random.truncated_normal  \n",
    "\n",
    "在使用sigmoid作为激活函数时，在一定程度上可以改善gradient venish（梯度饱和）。\n",
    "\n"
   ],
   "cell_type": "markdown",
   "metadata": {}
  },
  {
   "cell_type": "code",
   "execution_count": null,
   "metadata": {},
   "outputs": [],
   "source": [
    "tf.random.truncated_normal(shape=[38, 38], mean=0, stddev=1, dtype=tf.float32)"
   ]
  },
  {
   "source": [
    "### 均匀分布 random.uniform"
   ],
   "cell_type": "markdown",
   "metadata": {}
  },
  {
   "cell_type": "code",
   "execution_count": 11,
   "metadata": {},
   "outputs": [
    {
     "output_type": "execute_result",
     "data": {
      "text/plain": [
       "<tf.Tensor: shape=(3, 3), dtype=float32, numpy=\n",
       "array([[ 0.7446358 , -0.8749316 , -0.20477581],\n",
       "       [-0.34861064,  0.03871131, -0.7959955 ],\n",
       "       [-0.46250916,  0.5117028 , -0.5933111 ]], dtype=float32)>"
      ]
     },
     "metadata": {},
     "execution_count": 11
    }
   ],
   "source": [
    "tf.random.uniform(shape=[3, 3], minval=-1., maxval=1., dtype=tf.float32)"
   ]
  },
  {
   "source": [
    "## 2. 张量的操作"
   ],
   "cell_type": "markdown",
   "metadata": {}
  },
  {
   "source": [
    "### 打散张量 tf.random.shuffle"
   ],
   "cell_type": "markdown",
   "metadata": {}
  },
  {
   "cell_type": "code",
   "execution_count": 20,
   "metadata": {},
   "outputs": [],
   "source": [
    "index = tf.range(start=0, limit=10, delta=1, dtype=tf.int32)\n",
    "shuffled = tf.random.shuffle(tf.constant(value=index, dtype=tf.int32))"
   ]
  },
  {
   "cell_type": "code",
   "execution_count": null,
   "metadata": {},
   "outputs": [],
   "source": [
    "tf.reduce_max(shuffled)"
   ]
  }
 ]
}