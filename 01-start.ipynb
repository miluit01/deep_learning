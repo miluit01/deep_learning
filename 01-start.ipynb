{
 "metadata": {
  "language_info": {
   "codemirror_mode": {
    "name": "ipython",
    "version": 3
   },
   "file_extension": ".py",
   "mimetype": "text/x-python",
   "name": "python",
   "nbconvert_exporter": "python",
   "pygments_lexer": "ipython3",
   "version": "3.6.9-final"
  },
  "orig_nbformat": 2,
  "kernelspec": {
   "name": "python3",
   "display_name": "Python 3.6.9 64-bit",
   "metadata": {
    "interpreter": {
     "hash": "767d51c1340bd893661ea55ea3124f6de3c7a262a8b4abca0554b478b1e2ff90"
    }
   }
  }
 },
 "nbformat": 4,
 "nbformat_minor": 2,
 "cells": [
  {
   "source": [
    "# Step by Step "
   ],
   "cell_type": "markdown",
   "metadata": {}
  },
  {
   "cell_type": "code",
   "execution_count": null,
   "metadata": {},
   "outputs": [],
   "source": [
    "import tensorflow as tf"
   ]
  },
  {
   "source": [
    "## Tensor数据类型\n",
    "\n",
    "\n"
   ],
   "cell_type": "markdown",
   "metadata": {}
  },
  {
   "source": [
    "\n",
    "### 全为 0"
   ],
   "cell_type": "markdown",
   "metadata": {}
  },
  {
   "cell_type": "code",
   "execution_count": null,
   "metadata": {},
   "outputs": [],
   "source": [
    "tf.zeros(shape=[38,38], dtype=tf.int32)"
   ]
  },
  {
   "source": [
    "### 全为 1"
   ],
   "cell_type": "markdown",
   "metadata": {}
  },
  {
   "cell_type": "code",
   "execution_count": null,
   "metadata": {},
   "outputs": [],
   "source": [
    "tf.ones(shape=[38,38], dtype=tf.int32) # tensor with 38x38 filled with 1"
   ]
  },
  {
   "source": [
    "## 随机初始化，适用权重和偏差值的初始化\n",
    "\n",
    "### random.normal 正态分布\n"
   ],
   "cell_type": "markdown",
   "metadata": {}
  },
  {
   "cell_type": "code",
   "execution_count": null,
   "metadata": {},
   "outputs": [],
   "source": [
    "tf.random.normal(shape=[38, 38], mean=0, stddev=1, dtype=tf.float32)"
   ]
  },
  {
   "source": [
    "### 裁剪正态分布 random.truncated_normal  \n",
    "\n",
    "在使用sigmoid作为激活函数时，在一定程度上可以改善gradient venish（梯度饱和）。\n",
    "\n"
   ],
   "cell_type": "markdown",
   "metadata": {}
  },
  {
   "cell_type": "code",
   "execution_count": null,
   "metadata": {},
   "outputs": [],
   "source": [
    "tf.random.truncated_normal(shape=[38, 38], mean=0, stddev=1, dtype=tf.float32)"
   ]
  },
  {
   "source": [
    "### 均匀分布: random.uniform "
   ],
   "cell_type": "markdown",
   "metadata": {}
  }
 ]
}