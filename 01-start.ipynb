{
 "metadata": {
  "language_info": {
   "codemirror_mode": {
    "name": "ipython",
    "version": 3
   },
   "file_extension": ".py",
   "mimetype": "text/x-python",
   "name": "python",
   "nbconvert_exporter": "python",
   "pygments_lexer": "ipython3",
   "version": "3.6.9-final"
  },
  "orig_nbformat": 2,
  "kernelspec": {
   "name": "python3",
   "display_name": "Python 3.6.9 64-bit",
   "metadata": {
    "interpreter": {
     "hash": "767d51c1340bd893661ea55ea3124f6de3c7a262a8b4abca0554b478b1e2ff90"
    }
   }
  }
 },
 "nbformat": 4,
 "nbformat_minor": 2,
 "cells": [
  {
   "source": [
    "# Step by Step "
   ],
   "cell_type": "markdown",
   "metadata": {}
  },
  {
   "cell_type": "code",
   "execution_count": 1,
   "metadata": {},
   "outputs": [],
   "source": [
    "import tensorflow as tf"
   ]
  },
  {
   "source": [
    "## Tensor数据类型\n",
    "\n",
    "\n"
   ],
   "cell_type": "markdown",
   "metadata": {}
  },
  {
   "source": [
    "\n",
    "### 全为 0"
   ],
   "cell_type": "markdown",
   "metadata": {}
  },
  {
   "cell_type": "code",
   "execution_count": 10,
   "metadata": {},
   "outputs": [
    {
     "output_type": "execute_result",
     "data": {
      "text/plain": [
       "<tf.Tensor: shape=(38, 38), dtype=int32, numpy=\n",
       "array([[0, 0, 0, ..., 0, 0, 0],\n",
       "       [0, 0, 0, ..., 0, 0, 0],\n",
       "       [0, 0, 0, ..., 0, 0, 0],\n",
       "       ...,\n",
       "       [0, 0, 0, ..., 0, 0, 0],\n",
       "       [0, 0, 0, ..., 0, 0, 0],\n",
       "       [0, 0, 0, ..., 0, 0, 0]], dtype=int32)>"
      ]
     },
     "metadata": {},
     "execution_count": 10
    }
   ],
   "source": [
    "tf.zeros(shape=[38,38], dtype=tf.int32)\n",
    "\n"
   ]
  },
  {
   "source": [
    "### 全为 1"
   ],
   "cell_type": "markdown",
   "metadata": {}
  },
  {
   "cell_type": "code",
   "execution_count": 11,
   "metadata": {},
   "outputs": [
    {
     "output_type": "execute_result",
     "data": {
      "text/plain": [
       "<tf.Tensor: shape=(38, 38), dtype=int32, numpy=\n",
       "array([[1, 1, 1, ..., 1, 1, 1],\n",
       "       [1, 1, 1, ..., 1, 1, 1],\n",
       "       [1, 1, 1, ..., 1, 1, 1],\n",
       "       ...,\n",
       "       [1, 1, 1, ..., 1, 1, 1],\n",
       "       [1, 1, 1, ..., 1, 1, 1],\n",
       "       [1, 1, 1, ..., 1, 1, 1]], dtype=int32)>"
      ]
     },
     "metadata": {},
     "execution_count": 11
    }
   ],
   "source": [
    "tf.ones(shape=[38,38], dtype=tf.int32) # tensor with 38x38 filled with 1"
   ]
  },
  {
   "source": [
    "## 随机初始化，适用权重和偏差值的初始化\n",
    "\n",
    "### random.normal 正态分布\n"
   ],
   "cell_type": "markdown",
   "metadata": {}
  },
  {
   "cell_type": "code",
   "execution_count": 12,
   "metadata": {},
   "outputs": [
    {
     "output_type": "execute_result",
     "data": {
      "text/plain": [
       "<tf.Tensor: shape=(38, 38), dtype=float32, numpy=\n",
       "array([[ 0.72260255, -1.5375623 ,  0.648994  , ..., -1.4071993 ,\n",
       "        -1.326827  , -1.0616107 ],\n",
       "       [ 0.8225066 ,  0.2567229 , -0.21935514, ...,  0.07383249,\n",
       "        -0.365342  , -1.1556598 ],\n",
       "       [-0.8941095 , -0.84467506, -0.01636259, ...,  1.3428128 ,\n",
       "         0.74234444, -0.4025671 ],\n",
       "       ...,\n",
       "       [-0.18138544,  0.8666604 ,  0.733283  , ...,  1.3794061 ,\n",
       "         1.5378702 , -0.4903225 ],\n",
       "       [ 1.783662  , -0.22710437, -2.139163  , ..., -0.48147607,\n",
       "        -1.1879321 ,  0.61631143],\n",
       "       [-0.2560265 , -0.28852853,  0.21681708, ...,  0.2849576 ,\n",
       "         1.1807845 ,  0.0094273 ]], dtype=float32)>"
      ]
     },
     "metadata": {},
     "execution_count": 12
    }
   ],
   "source": [
    "tf.random.normal(shape=[38, 38], mean=0, stddev=1, dtype=tf.float32)"
   ]
  },
  {
   "source": [
    "### 裁剪正态分布 random.truncated_normal  \n",
    "\n",
    "可以改善gradient venish（梯度饱和）\n",
    "\n"
   ],
   "cell_type": "markdown",
   "metadata": {}
  },
  {
   "cell_type": "code",
   "execution_count": 13,
   "metadata": {},
   "outputs": [
    {
     "output_type": "execute_result",
     "data": {
      "text/plain": [
       "<tf.Tensor: shape=(38, 38), dtype=float32, numpy=\n",
       "array([[ 0.1358809 , -0.7665587 , -1.7189044 , ...,  0.8445095 ,\n",
       "        -0.4066623 , -0.28256407],\n",
       "       [ 0.15385854, -0.4992143 ,  1.0269536 , ...,  1.1694217 ,\n",
       "         0.99347234,  1.1478807 ],\n",
       "       [ 0.23131931, -1.318308  ,  0.63011587, ..., -0.09443381,\n",
       "        -0.7596812 ,  1.4460287 ],\n",
       "       ...,\n",
       "       [-1.5437566 , -0.3843725 ,  1.0223138 , ..., -1.6253092 ,\n",
       "         0.3987385 , -1.3653003 ],\n",
       "       [ 0.21114609,  0.7819843 , -1.2557315 , ...,  0.93333876,\n",
       "        -0.24373831,  0.69461817],\n",
       "       [ 0.11587392, -0.5395601 , -0.23681837, ...,  0.85436493,\n",
       "         0.18325314,  1.0818373 ]], dtype=float32)>"
      ]
     },
     "metadata": {},
     "execution_count": 13
    }
   ],
   "source": [
    "tf.random.truncated_normal(shape=[38, 38], mean=0, stddev=1, dtype=tf.float32)"
   ]
  },
  {
   "source": [
    "### 均匀分布: random.uniform "
   ],
   "cell_type": "markdown",
   "metadata": {}
  }
 ]
}