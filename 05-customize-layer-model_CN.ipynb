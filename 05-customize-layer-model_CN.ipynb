{
 "metadata": {
  "language_info": {
   "codemirror_mode": {
    "name": "ipython",
    "version": 3
   },
   "file_extension": ".py",
   "mimetype": "text/x-python",
   "name": "python",
   "nbconvert_exporter": "python",
   "pygments_lexer": "ipython3",
   "version": "3.6.9-final"
  },
  "orig_nbformat": 2,
  "kernelspec": {
   "name": "python3",
   "display_name": "Python 3.6.9 64-bit",
   "metadata": {
    "interpreter": {
     "hash": "767d51c1340bd893661ea55ea3124f6de3c7a262a8b4abca0554b478b1e2ff90"
    }
   }
  }
 },
 "nbformat": 4,
 "nbformat_minor": 2,
 "cells": [
  {
   "source": [
    "# 自定义层（Layer)和模型（Model)类\n",
    "\n",
    "使用tensorflow可以通过继承（面对对象编程）layer和model的方法创建自定义的层和模型。<br/>\n",
    "通过这个方法可以很简单的扩充网络的功能。创建自己的层和模型是必需掌握的。<br/>\n",
    "例如tensorflow中的Dense和Sequetial（子类）分别继承与Layer和Model（母类）\n",
    "\n",
    "继承后必须实现的方法是 \\__init\\__ 和 call"
   ],
   "cell_type": "markdown",
   "metadata": {}
  },
  {
   "source": [
    "## 自定义层（Layer)"
   ],
   "cell_type": "markdown",
   "metadata": {}
  },
  {
   "cell_type": "code",
   "execution_count": null,
   "metadata": {},
   "outputs": [],
   "source": [
    "from tensorflow.keras import layers\n",
    "\n",
    "class MyDense(layers.Layer):\n",
    "    \n",
    "    def __init__(self, input_dim, output_dim):\n",
    "        # call the super class initialization\n",
    "        super(MyDense, self).__init__()\n",
    "        # add_weight (add_variable will be descrepted) => trainable_variables \n",
    "        self.kernel = self.add_weight('w', [input_dim, output_dim])\n",
    "        self.bias = self.add_weight('b', [output_dim])\n",
    "\n",
    "    def call(self, inputs, training=None):\n",
    "        return inputs @ self.kernel + self.bias"
   ]
  },
  {
   "source": [
    "## 自定义模型（Model)"
   ],
   "cell_type": "markdown",
   "metadata": {}
  },
  {
   "cell_type": "code",
   "execution_count": null,
   "metadata": {},
   "outputs": [],
   "source": [
    "import tensorflow as tf\n",
    "\n",
    "class MyModel(tf.keras.Model):\n",
    "\n",
    "    def __init__(self):\n",
    "        super(MyModel, self).__init__()\n",
    "        # using MyDense customized full connected layer\n",
    "        self.fc1 = MyDense(28*28, 512)\n",
    "        self.fc2 = MyDense(512, 128)\n",
    "        self.fc3 = MyDense(128, 64)\n",
    "        self.fc4 = MyDense(64, 32)\n",
    "        self.fc5 = MyDense(32, 10)\n",
    "\n",
    "    @tf.function\n",
    "    def call(self, inputs, training=None):\n",
    "        output = tf.nn.relu(self.fc1(inputs))\n",
    "        output = tf.nn.relu(self.fc2(output))\n",
    "        output = tf.nn.relu(self.fc3(output))\n",
    "        output = tf.nn.relu(self.fc4(output))\n",
    "        # last layer output is logics\n",
    "        output =  self.fc5(output)\n",
    "        return output"
   ]
  },
  {
   "source": [
    "## 使用自己的model练丹\n",
    "\n",
    "依旧使用02中训练和验证数据加载和预处理的方法"
   ],
   "cell_type": "markdown",
   "metadata": {}
  },
  {
   "cell_type": "code",
   "execution_count": null,
   "metadata": {},
   "outputs": [],
   "source": [
    "from tensorflow.keras import datasets\n",
    "\n",
    "#tf.executing_eagerly()\n",
    "\n",
    "def preprocess(x, y):\n",
    "    x = tf.cast(x, dtype=tf.float32) / 255. # cast is ok; but convert_to_tensor is not working-> uint8 can't be converted to float32 tensor\n",
    "    # due to the self customized model the x input image need to be reshaped from 2x1 [28,28] => 1x1 [28*28]\n",
    "    x = tf.reshape(x, [28*28])\n",
    "    y = tf.cast(y, dtype=tf.int64)\n",
    "    # the output need to one-hot as well\n",
    "    y = tf.one_hot(y, depth=10)\n",
    "    return x, y\n",
    "\n",
    "(x_train, y_train), (x_test, y_test) = tf.keras.datasets.mnist.load_data(path='./mnist.pnz')\n",
    "\n",
    "train_db = tf.data.Dataset.from_tensor_slices((x_train, y_train)).map(preprocess).shuffle(10000).batch(100)\n",
    "\n",
    "test_db = tf.data.Dataset.from_tensor_slices((x_test, y_test)).map(preprocess).batch(100)"
   ]
  },
  {
   "source": [
    "初始化自己的网络"
   ],
   "cell_type": "markdown",
   "metadata": {}
  },
  {
   "cell_type": "code",
   "execution_count": null,
   "metadata": {},
   "outputs": [],
   "source": [
    "network = MyModel()"
   ]
  },
  {
   "source": [
    "使用compile的方法初始化模型"
   ],
   "cell_type": "markdown",
   "metadata": {}
  },
  {
   "cell_type": "code",
   "execution_count": null,
   "metadata": {},
   "outputs": [],
   "source": [
    "from tensorflow.keras import optimizers, losses\n",
    "\n",
    "network.compile(optimizer=optimizers.Adam(lr=0.01), \n",
    "                loss=tf.losses.CategoricalCrossentropy(from_logits=True), \n",
    "                metrics=['accuracy'],\n",
    "                run_eagerly=True)\n",
    "\n",
    "network.build((None, None, 28*28))\n",
    "network.summary()"
   ]
  },
  {
   "source": [
    "练丹前使用tensorboard去可视化一下训练的过程， 这个和04稍微有些不同，得使用callback的方式\n",
    "\n",
    "TODO: 模型的graph并没有被创建...奇怪\n"
   ],
   "cell_type": "markdown",
   "metadata": {}
  },
  {
   "cell_type": "code",
   "execution_count": null,
   "metadata": {},
   "outputs": [],
   "source": [
    "import datetime\n",
    "\n",
    "current_time = datetime.datetime.now().strftime(\"%Y%m%d-%H%M%S\")\n",
    "log_dir = 'logs/' + current_time\n",
    "\n",
    "#callbacks = [\n",
    "#    tf.keras.callbacks.TensorBoard(log_dir=log_dir,\n",
    "#                                   histogram_freq=1,\n",
    "#                                   write_graph=True, write_grads=False, write_images=True,\n",
    "#                                   embeddings_freq=0, embeddings_layer_names=None,\n",
    "#                                   embeddings_metadata=None, embeddings_data=None, update_freq=500)\n",
    "#]\n",
    "callbacks = [\n",
    "    tf.keras.callbacks.TensorBoard(log_dir=log_dir, update_freq='epoch', profile_batch=1)\n",
    "]\n"
   ]
  },
  {
   "source": [
    "开始练丹了"
   ],
   "cell_type": "markdown",
   "metadata": {}
  },
  {
   "cell_type": "code",
   "execution_count": null,
   "metadata": {},
   "outputs": [],
   "source": [
    "network.fit(train_db,\n",
    "            batch_size=128,\n",
    "            epochs=10,\n",
    "            validation_data=test_db, \n",
    "            validation_freq=1,\n",
    "            callbacks = callbacks)"
   ]
  },
  {
   "source": [
    "验证，这里应该使用另外的数据集"
   ],
   "cell_type": "markdown",
   "metadata": {}
  },
  {
   "cell_type": "code",
   "execution_count": null,
   "metadata": {},
   "outputs": [],
   "source": [
    "network.evaluate(test_db)"
   ]
  }
 ]
}