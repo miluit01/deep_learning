{
 "metadata": {
  "language_info": {
   "codemirror_mode": {
    "name": "ipython",
    "version": 3
   },
   "file_extension": ".py",
   "mimetype": "text/x-python",
   "name": "python",
   "nbconvert_exporter": "python",
   "pygments_lexer": "ipython3",
   "version": "3.6.9-final"
  },
  "orig_nbformat": 2,
  "kernelspec": {
   "name": "python3",
   "display_name": "Python 3",
   "language": "python"
  }
 },
 "nbformat": 4,
 "nbformat_minor": 2,
 "cells": [
  {
   "source": [
    "# 手工初级练丹 - level UP!"
   ],
   "cell_type": "markdown",
   "metadata": {}
  },
  {
   "cell_type": "code",
   "execution_count": null,
   "metadata": {},
   "outputs": [],
   "source": [
    "import tensorflow as tf\n",
    "from tensorflow import keras\n",
    "from tensorflow.keras import datasets, layers, optimizers, Sequential, metrics"
   ]
  },
  {
   "source": [
    "## 数据读取"
   ],
   "cell_type": "markdown",
   "metadata": {}
  },
  {
   "cell_type": "code",
   "execution_count": null,
   "metadata": {},
   "outputs": [],
   "source": [
    "(x_train, y_train), (x_test, y_test) = tf.keras.datasets.mnist.load_data(path='./mnist.pnz')"
   ]
  },
  {
   "source": [
    "## 数据预处理\n",
    "\n",
    "和初级练丹一致，slice切片->scaling数值区间，类型转换->打散->做batch <br/>\n",
    "\n",
    "第一步定义一个是数据预处理函数对输入和真值的类型和数值范围进行转换"
   ],
   "cell_type": "markdown",
   "metadata": {}
  },
  {
   "cell_type": "code",
   "execution_count": null,
   "metadata": {},
   "outputs": [],
   "source": [
    "def preprocess(x, y):\n",
    "    x = tf.cast(x, dtype=tf.float32) / 255. # cast is ok; but convert_to_tensor is not working-> uint8 can't be converted to float32 tensor\n",
    "    y = tf.cast(y, dtype=tf.int64)\n",
    "    return x, y"
   ]
  },
  {
   "source": [
    "接下来就是做数据切片了。第一个是训练集合。"
   ],
   "cell_type": "markdown",
   "metadata": {}
  },
  {
   "cell_type": "code",
   "execution_count": null,
   "metadata": {},
   "outputs": [],
   "source": [
    "train_db = tf.data.Dataset.from_tensor_slices((x_train, y_train)).map(preprocess).shuffle(10000).batch(100)"
   ]
  },
  {
   "source": [
    "测试集,不需要打散（搅拌？乱序）shuttle了"
   ],
   "cell_type": "markdown",
   "metadata": {}
  },
  {
   "cell_type": "code",
   "execution_count": null,
   "metadata": {},
   "outputs": [],
   "source": [
    "test_db = tf.data.Dataset.from_tensor_slices((x_test, y_test)).map(preprocess).batch(100)"
   ]
  },
  {
   "source": [
    "## 搭练丹炉了---网络\n",
    "\n",
    "这里直接使用了keras封装的Dense层类和Sequential序列全连接层类"
   ],
   "cell_type": "markdown",
   "metadata": {}
  },
  {
   "cell_type": "code",
   "execution_count": null,
   "metadata": {},
   "outputs": [],
   "source": [
    "network = keras.Sequential([\n",
    "    layers.Dense(256, activation=tf.nn.relu),\n",
    "    layers.Dense(128, activation=tf.nn.relu),\n",
    "    layers.Dense(64, activation=tf.nn.relu),\n",
    "    layers.Dense(32, activation=tf.nn.relu),\n",
    "    layers.Dense(10)\n",
    "])\n",
    "network.build(input_shape=[None, 28*28]) # 给定输入层的结构从而初始化网络\n",
    "network.summary() # 打印出网络结构\n",
    "\n",
    "optimizer = optimizers.Adam(lr=1e-3) # 参数更新优化器，LR learnning rate"
   ]
  },
  {
   "source": [
    "主函数"
   ],
   "cell_type": "markdown",
   "metadata": {}
  },
  {
   "cell_type": "code",
   "execution_count": null,
   "metadata": {},
   "outputs": [],
   "source": [
    "def main():\n",
    "    for epoch in range(50):\n",
    "        # Training...\n",
    "        for step, (x, y) in enumerate(train_db):\n",
    "            x = tf.reshape(x, [-1, 28*28])\n",
    "            with tf.GradientTape() as tape:\n",
    "                logits = network(x)\n",
    "                y_onehot = tf.one_hot(y, depth=10)\n",
    "                loss = tf.losses.categorical_crossentropy(y_onehot, logits, from_logits=True)\n",
    "\n",
    "            grads = tape.gradient(loss, network.trainable_variables)\n",
    "            optimizer.apply_gradients(zip(grads, network.trainable_variables))\n",
    "\n",
    "            if step % 100 == 0 : \n",
    "                print(epoch, step, 'loss:', float(tf.reduce_mean(loss)))\n",
    "\n",
    "        # Testing...\n",
    "        total_correct, total_num = 0, 0\n",
    "        for step, (x, y) in enumerate(test_db):\n",
    "            x = tf.reshape(x, [-1, 28*28])\n",
    "            out = network(x)\n",
    "\n",
    "            prob = tf.nn.softmax(out, axis=1)\n",
    "            pred = tf.argmax(prob, axis=1)\n",
    "            \n",
    "            correct = tf.cast(tf.equal(pred, y), dtype=tf.int32)\n",
    "            correct = tf.reduce_sum(correct)\n",
    "            \n",
    "            total_correct += int(correct)\n",
    "            total_num += x.shape[0]\n",
    "\n",
    "        print('test acc:', total_correct * 100 / total_num, '%')"
   ]
  },
  {
   "source": [
    "判断脚本进入main的位置，防止全局变量污染"
   ],
   "cell_type": "markdown",
   "metadata": {}
  },
  {
   "cell_type": "code",
   "execution_count": null,
   "metadata": {},
   "outputs": [],
   "source": [
    "if __name__ == '__main__':\n",
    "    main()"
   ]
  }
 ]
}