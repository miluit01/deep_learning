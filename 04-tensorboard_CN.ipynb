{
 "metadata": {
  "language_info": {
   "codemirror_mode": {
    "name": "ipython",
    "version": 3
   },
   "file_extension": ".py",
   "mimetype": "text/x-python",
   "name": "python",
   "nbconvert_exporter": "python",
   "pygments_lexer": "ipython3",
   "version": "3.6.9-final"
  },
  "orig_nbformat": 2,
  "kernelspec": {
   "name": "python3",
   "display_name": "Python 3.6.9 64-bit",
   "metadata": {
    "interpreter": {
     "hash": "767d51c1340bd893661ea55ea3124f6de3c7a262a8b4abca0554b478b1e2ff90"
    }
   }
  }
 },
 "nbformat": 4,
 "nbformat_minor": 2,
 "cells": [
  {
   "source": [
    "# Tensorboard 可视化训练\n",
    "\n",
    "练丹炉子里的情况用print去看会很伤眼睛。Tensorflow有tensorboard模块支持训练结果的定制化可视化。"
   ],
   "cell_type": "markdown",
   "metadata": {}
  },
  {
   "source": [
    "## 启动tensorboard\n",
    "\n",
    "```bash\n",
    "tensorboard --logdir logs\n",
    "```\n",
    "\n",
    "在浏览器里可以通过url和默认打开的6007端口进入tensorboard的UI.这里使用了本机所以是localhost，用其他机器的话确认url和主机hostname一致即可。\n",
    "\n",
    "```url\n",
    "http://localhost:6007/#\n",
    "```"
   ],
   "cell_type": "markdown",
   "metadata": {}
  },
  {
   "source": [
    "## 代码中创建tensorboard的接口"
   ],
   "cell_type": "markdown",
   "metadata": {}
  },
  {
   "cell_type": "code",
   "execution_count": null,
   "metadata": {},
   "outputs": [],
   "source": [
    "# 用当前时间戳创建log的子目录\n",
    "import datetime\n",
    "\n",
    "current_time = datetime.datetime.now().strftime(\"%Y%m%d-%H%M%S\")\n",
    "log_dir = 'logs/' + current_time\n"
   ]
  },
  {
   "cell_type": "code",
   "execution_count": null,
   "metadata": {},
   "outputs": [],
   "source": [
    "# 创建tensorboard的log的写句柄\n",
    "import tensorflow as tf\n",
    "\n",
    "log_writer = tf.summary.create_file_writer(log_dir)\n"
   ]
  },
  {
   "source": [
    "## 给tensorboard喂数据\n",
    "\n",
    "先把02里的代码copy&past过来"
   ],
   "cell_type": "markdown",
   "metadata": {}
  },
  {
   "cell_type": "code",
   "execution_count": null,
   "metadata": {},
   "outputs": [],
   "source": [
    "from tensorflow import keras\n",
    "from tensorflow.keras import datasets, layers, optimizers, Sequential, metrics\n",
    "\n",
    "def preprocess(x, y):\n",
    "    x = tf.cast(x, dtype=tf.float32) / 255. # cast is ok; but convert_to_tensor is not working-> uint8 can't be converted to float32 tensor\n",
    "    y = tf.cast(y, dtype=tf.int64)\n",
    "    return x, y\n",
    "\n",
    "(x_train, y_train), (x_test, y_test) = tf.keras.datasets.mnist.load_data(path='./mnist.pnz')\n",
    "\n",
    "train_db = tf.data.Dataset.from_tensor_slices((x_train, y_train)).map(preprocess).shuffle(10000).batch(100)\n",
    "\n",
    "test_db = tf.data.Dataset.from_tensor_slices((x_test, y_test)).map(preprocess).batch(100)\n",
    "\n",
    "network = keras.Sequential([\n",
    "    layers.Dense(256, activation=tf.nn.relu),\n",
    "    layers.Dense(128, activation=tf.nn.relu),\n",
    "    layers.Dense(64, activation=tf.nn.relu),\n",
    "    layers.Dense(32, activation=tf.nn.relu),\n",
    "    layers.Dense(10)\n",
    "])\n",
    "network.build(input_shape=[None, 28*28]) # 给定输入层的结构从而初始化网络\n",
    "network.summary() # 打印出网络结构\n",
    "\n",
    "optimizer = optimizers.Adam(lr=1e-3) # 参数更新优化器，LR learnning rate\n",
    "\n",
    "def main():\n",
    "    for epoch in range(50):\n",
    "        # Training...\n",
    "        for step, (x, y) in enumerate(train_db):\n",
    "            x = tf.reshape(x, [-1, 28*28])\n",
    "            with tf.GradientTape() as tape:\n",
    "                logits = network(x)\n",
    "                y_onehot = tf.one_hot(y, depth=10)\n",
    "                loss = tf.losses.categorical_crossentropy(y_onehot, logits, from_logits=True)\n",
    "\n",
    "            grads = tape.gradient(loss, network.trainable_variables)\n",
    "            optimizer.apply_gradients(zip(grads, network.trainable_variables))\n",
    "\n",
    "            # if step % 100 == 0 : \n",
    "            #    print(epoch, step, 'loss:', float(tf.reduce_mean(loss)))\n",
    "            # 这里用 tensorboard 取代 print\n",
    "            if step % 100 == 0 :\n",
    "                with log_writer.as_default():\n",
    "                    tf.summary.scalar('loss', float(tf.reduce_mean(loss)), step=epoch)\n",
    "\n",
    "        # Testing...\n",
    "        total_correct, total_num = 0, 0\n",
    "        for step, (x, y) in enumerate(test_db):\n",
    "            x = tf.reshape(x, [-1, 28*28])\n",
    "            out = network(x)\n",
    "\n",
    "            prob = tf.nn.softmax(out, axis=1)\n",
    "            pred = tf.argmax(prob, axis=1)\n",
    "            \n",
    "            correct = tf.cast(tf.equal(pred, y), dtype=tf.int32)\n",
    "            correct = tf.reduce_sum(correct)\n",
    "            \n",
    "            total_correct += int(correct)\n",
    "            total_num += x.shape[0]\n",
    "\n",
    "        # print('test acc:', total_correct * 100 / total_num, '%')\n",
    "        # 这里用 tensorboard 取代 print\n",
    "        with log_writer.as_default():\n",
    "            tf.summary.scalar('accuracy', float(total_correct/total_num), step=epoch)\n",
    "\n",
    "\n",
    "if __name__ == '__main__':\n",
    "    main()"
   ]
  }
 ]
}